{
 "cells": [
  {
   "cell_type": "code",
   "execution_count": 1,
   "id": "02f2e921-31c1-4c5d-8483-777bceaa9a9d",
   "metadata": {},
   "outputs": [
    {
     "name": "stderr",
     "output_type": "stream",
     "text": [
      "2022-08-11 17:54:36.947026: I tensorflow/core/util/util.cc:169] oneDNN custom operations are on. You may see slightly different numerical results due to floating-point round-off errors from different computation orders. To turn them off, set the environment variable `TF_ENABLE_ONEDNN_OPTS=0`.\n",
      "\u001b[34m\u001b[1mwandb\u001b[0m: Currently logged in as: \u001b[33mlijingwang\u001b[0m (\u001b[33mfdl-digitaltwin\u001b[0m). Use \u001b[1m`wandb login --relogin`\u001b[0m to force relogin\n"
     ]
    },
    {
     "data": {
      "text/html": [
       "wandb version 0.13.1 is available!  To upgrade, please run:\n",
       " $ pip install wandb --upgrade"
      ],
      "text/plain": [
       "<IPython.core.display.HTML object>"
      ]
     },
     "metadata": {},
     "output_type": "display_data"
    },
    {
     "data": {
      "text/html": [
       "Tracking run with wandb version 0.12.21"
      ],
      "text/plain": [
       "<IPython.core.display.HTML object>"
      ]
     },
     "metadata": {},
     "output_type": "display_data"
    },
    {
     "data": {
      "text/html": [
       "Run data is saved locally in <code>/home/jupyter/digitaltwin-pssm/wandb/run-20220811_175438-1inf1xzg</code>"
      ],
      "text/plain": [
       "<IPython.core.display.HTML object>"
      ]
     },
     "metadata": {},
     "output_type": "display_data"
    },
    {
     "data": {
      "text/html": [
       "Syncing run <strong><a href=\"https://wandb.ai/fdl-digitaltwin/PSSM/runs/1inf1xzg\" target=\"_blank\">earnest-lion-306</a></strong> to <a href=\"https://wandb.ai/fdl-digitaltwin/PSSM\" target=\"_blank\">Weights & Biases</a> (<a href=\"https://wandb.me/run\" target=\"_blank\">docs</a>)<br/>"
      ],
      "text/plain": [
       "<IPython.core.display.HTML object>"
      ]
     },
     "metadata": {},
     "output_type": "display_data"
    }
   ],
   "source": [
    "import pandas as pd\n",
    "import numpy as np\n",
    "from tqdm import tqdm\n",
    "import training as training\n",
    "from timeit import default_timer as timer"
   ]
  },
  {
   "cell_type": "code",
   "execution_count": 2,
   "id": "9ecd0209-6dae-4aec-a2d9-9aa266dc2108",
   "metadata": {},
   "outputs": [],
   "source": [
    "epochs = 150\n",
    "learning_rate = 0.001\n",
    "\n",
    "beta1 = 0.1\n",
    "beta2 = 0.1\n",
    "beta3 = 0.1\n",
    "beta4 = 0.1\n",
    "beta5 = 0.1\n",
    "beta6 = 0.1\n",
    "beta7 = 0.1"
   ]
  },
  {
   "cell_type": "code",
   "execution_count": null,
   "id": "ff9672a7-6d32-45a7-809f-a78a36151485",
   "metadata": {},
   "outputs": [],
   "source": [
    "#beta_array = pd.read_csv('beta_UFNO3D_test2.csv')"
   ]
  },
  {
   "cell_type": "code",
   "execution_count": null,
   "id": "e1676762-7bdd-43e9-9484-e461e7ca0c4d",
   "metadata": {},
   "outputs": [],
   "source": [
    "#beta_array"
   ]
  },
  {
   "cell_type": "code",
   "execution_count": null,
   "id": "21be8a78-17d8-4950-98d5-e58db03462f4",
   "metadata": {},
   "outputs": [],
   "source": [
    "# batch_size = 4\n",
    "# ufno_model = '3D'\n",
    "# UNet = True\n",
    "# dataset = 'uneven_interval'\n",
    "# training.main(epochs, batch_size, learning_rate, ufno_model, UNet, beta1, beta2, beta3, beta4, beta5, beta6, beta7, dataset)"
   ]
  },
  {
   "cell_type": "code",
   "execution_count": null,
   "id": "2220b8d3-95f5-42b3-895c-ae494ae853fa",
   "metadata": {},
   "outputs": [],
   "source": [
    "# batch_size = 4\n",
    "# ufno_model = '3D'\n",
    "# UNet = False\n",
    "# dataset = 'uneven_interval'\n",
    "# training.main(epochs, batch_size, learning_rate, ufno_model, UNet, beta1, beta2, beta3, beta4, beta5, beta6, beta7, dataset)"
   ]
  },
  {
   "cell_type": "code",
   "execution_count": 3,
   "id": "e6dca56f-0eab-48c8-8469-1f9c32da69f5",
   "metadata": {},
   "outputs": [
    {
     "name": "stdout",
     "output_type": "stream",
     "text": [
      "betas:[0.1 0.1 0.1 0.1 0.1 0.1 0.1]\n"
     ]
    },
    {
     "name": "stderr",
     "output_type": "stream",
     "text": [
      "/home/jupyter/digitaltwin-pssm/training.py:109: UserWarning: masked_fill_ received a mask with dtype torch.uint8, this behavior is now deprecated,please use a mask with dtype torch.bool instead. (Triggered internally at  /opt/conda/conda-bld/pytorch_1646755953518/work/aten/src/ATen/native/TensorAdvancedIndexing.cpp:1391.)\n",
      "  input_array[np.isnan(input_array)] = 0\n",
      "/home/jupyter/digitaltwin-pssm/training.py:120: UserWarning: masked_fill_ received a mask with dtype torch.uint8, this behavior is now deprecated,please use a mask with dtype torch.bool instead. (Triggered internally at  /opt/conda/conda-bld/pytorch_1646755953518/work/aten/src/ATen/native/TensorAdvancedIndexing.cpp:1391.)\n",
      "  scaled_output[np.isnan(scaled_output)] = 0\n"
     ]
    },
    {
     "data": {
      "text/html": [
       "Finishing last run (ID:1inf1xzg) before initializing another..."
      ],
      "text/plain": [
       "<IPython.core.display.HTML object>"
      ]
     },
     "metadata": {},
     "output_type": "display_data"
    },
    {
     "data": {
      "text/html": [
       "Waiting for W&B process to finish... <strong style=\"color:green\">(success).</strong>"
      ],
      "text/plain": [
       "<IPython.core.display.HTML object>"
      ]
     },
     "metadata": {},
     "output_type": "display_data"
    },
    {
     "data": {
      "application/vnd.jupyter.widget-view+json": {
       "model_id": "",
       "version_major": 2,
       "version_minor": 0
      },
      "text/plain": [
       "VBox(children=(Label(value='0.001 MB of 0.001 MB uploaded (0.000 MB deduped)\\r'), FloatProgress(value=1.0, max…"
      ]
     },
     "metadata": {},
     "output_type": "display_data"
    },
    {
     "data": {
      "text/html": [
       "Synced <strong style=\"color:#cdcd00\">earnest-lion-306</strong>: <a href=\"https://wandb.ai/fdl-digitaltwin/PSSM/runs/1inf1xzg\" target=\"_blank\">https://wandb.ai/fdl-digitaltwin/PSSM/runs/1inf1xzg</a><br/>Synced 6 W&B file(s), 0 media file(s), 0 artifact file(s) and 0 other file(s)"
      ],
      "text/plain": [
       "<IPython.core.display.HTML object>"
      ]
     },
     "metadata": {},
     "output_type": "display_data"
    },
    {
     "data": {
      "text/html": [
       "Find logs at: <code>./wandb/run-20220811_175438-1inf1xzg/logs</code>"
      ],
      "text/plain": [
       "<IPython.core.display.HTML object>"
      ]
     },
     "metadata": {},
     "output_type": "display_data"
    },
    {
     "data": {
      "text/html": [
       "Successfully finished last run (ID:1inf1xzg). Initializing new run:<br/>"
      ],
      "text/plain": [
       "<IPython.core.display.HTML object>"
      ]
     },
     "metadata": {},
     "output_type": "display_data"
    },
    {
     "data": {
      "text/html": [
       "wandb version 0.13.1 is available!  To upgrade, please run:\n",
       " $ pip install wandb --upgrade"
      ],
      "text/plain": [
       "<IPython.core.display.HTML object>"
      ]
     },
     "metadata": {},
     "output_type": "display_data"
    },
    {
     "data": {
      "text/html": [
       "Tracking run with wandb version 0.12.21"
      ],
      "text/plain": [
       "<IPython.core.display.HTML object>"
      ]
     },
     "metadata": {},
     "output_type": "display_data"
    },
    {
     "data": {
      "text/html": [
       "Run data is saved locally in <code>/home/jupyter/digitaltwin-pssm/wandb/run-20220811_180219-29e4gr1n</code>"
      ],
      "text/plain": [
       "<IPython.core.display.HTML object>"
      ]
     },
     "metadata": {},
     "output_type": "display_data"
    },
    {
     "data": {
      "text/html": [
       "Syncing run <strong><a href=\"https://wandb.ai/fdl-digitaltwin/digitaltwin-pssm/runs/29e4gr1n\" target=\"_blank\">legendary-blaze-260</a></strong> to <a href=\"https://wandb.ai/fdl-digitaltwin/digitaltwin-pssm\" target=\"_blank\">Weights & Biases</a> (<a href=\"https://wandb.me/run\" target=\"_blank\">docs</a>)<br/>"
      ],
      "text/plain": [
       "<IPython.core.display.HTML object>"
      ]
     },
     "metadata": {},
     "output_type": "display_data"
    },
    {
     "name": "stdout",
     "output_type": "stream",
     "text": [
      "Train: \n",
      "MRE: 0.009462583819635585\n",
      "MSE: 8.197654612856376e-06\n",
      "R2: 0.9997129048297241\n",
      "\n",
      "Validation: \n",
      "MRE: 0.014699019860812073\n",
      "MSE: 2.525297611466164e-05\n",
      "R2: 0.9991345193139848\n",
      "\n",
      "Test: \n",
      "MRE: 0.014414322306825336\n",
      "MSE: 2.4356674238267474e-05\n",
      "R2: 0.9991014030793268\n",
      "\n",
      "8.379800994383793 mins\n"
     ]
    }
   ],
   "source": [
    "batch_size = 4\n",
    "ufno_model = '3D'\n",
    "UNet = True\n",
    "dataset = 'even_interval'\n",
    "\n",
    "start = timer()\n",
    "\n",
    "print('betas:'+str(np.array([beta1, beta2, beta3, beta4, beta5, beta6, beta7])))\n",
    "training.main(epochs, batch_size, learning_rate, ufno_model, UNet, beta1, beta2, beta3, beta4, beta5, beta6, beta7, dataset)\n",
    "\n",
    "end = timer()\n",
    "\n",
    "print(str((end - start)/60)+str(' mins'))"
   ]
  },
  {
   "cell_type": "code",
   "execution_count": 4,
   "id": "cd1b6cb4-6188-4e06-98c1-1e4e4d4db176",
   "metadata": {},
   "outputs": [
    {
     "name": "stdout",
     "output_type": "stream",
     "text": [
      "betas:[0.1 0.1 0.1 0.1 0.1 0.1 0.1]\n"
     ]
    },
    {
     "name": "stderr",
     "output_type": "stream",
     "text": [
      "/home/jupyter/digitaltwin-pssm/training.py:109: UserWarning: masked_fill_ received a mask with dtype torch.uint8, this behavior is now deprecated,please use a mask with dtype torch.bool instead. (Triggered internally at  /opt/conda/conda-bld/pytorch_1646755953518/work/aten/src/ATen/native/TensorAdvancedIndexing.cpp:1391.)\n",
      "  input_array[np.isnan(input_array)] = 0\n",
      "/home/jupyter/digitaltwin-pssm/training.py:120: UserWarning: masked_fill_ received a mask with dtype torch.uint8, this behavior is now deprecated,please use a mask with dtype torch.bool instead. (Triggered internally at  /opt/conda/conda-bld/pytorch_1646755953518/work/aten/src/ATen/native/TensorAdvancedIndexing.cpp:1391.)\n",
      "  scaled_output[np.isnan(scaled_output)] = 0\n"
     ]
    },
    {
     "data": {
      "text/html": [
       "Finishing last run (ID:29e4gr1n) before initializing another..."
      ],
      "text/plain": [
       "<IPython.core.display.HTML object>"
      ]
     },
     "metadata": {},
     "output_type": "display_data"
    },
    {
     "data": {
      "text/html": [
       "Waiting for W&B process to finish... <strong style=\"color:green\">(success).</strong>"
      ],
      "text/plain": [
       "<IPython.core.display.HTML object>"
      ]
     },
     "metadata": {},
     "output_type": "display_data"
    },
    {
     "data": {
      "application/vnd.jupyter.widget-view+json": {
       "model_id": "",
       "version_major": 2,
       "version_minor": 0
      },
      "text/plain": [
       "VBox(children=(Label(value='0.001 MB of 0.001 MB uploaded (0.000 MB deduped)\\r'), FloatProgress(value=1.0, max…"
      ]
     },
     "metadata": {},
     "output_type": "display_data"
    },
    {
     "data": {
      "text/html": [
       "Synced <strong style=\"color:#cdcd00\">legendary-blaze-260</strong>: <a href=\"https://wandb.ai/fdl-digitaltwin/digitaltwin-pssm/runs/29e4gr1n\" target=\"_blank\">https://wandb.ai/fdl-digitaltwin/digitaltwin-pssm/runs/29e4gr1n</a><br/>Synced 6 W&B file(s), 0 media file(s), 0 artifact file(s) and 0 other file(s)"
      ],
      "text/plain": [
       "<IPython.core.display.HTML object>"
      ]
     },
     "metadata": {},
     "output_type": "display_data"
    },
    {
     "data": {
      "text/html": [
       "Find logs at: <code>./wandb/run-20220811_180219-29e4gr1n/logs</code>"
      ],
      "text/plain": [
       "<IPython.core.display.HTML object>"
      ]
     },
     "metadata": {},
     "output_type": "display_data"
    },
    {
     "data": {
      "text/html": [
       "Successfully finished last run (ID:29e4gr1n). Initializing new run:<br/>"
      ],
      "text/plain": [
       "<IPython.core.display.HTML object>"
      ]
     },
     "metadata": {},
     "output_type": "display_data"
    },
    {
     "data": {
      "text/html": [
       "wandb version 0.13.1 is available!  To upgrade, please run:\n",
       " $ pip install wandb --upgrade"
      ],
      "text/plain": [
       "<IPython.core.display.HTML object>"
      ]
     },
     "metadata": {},
     "output_type": "display_data"
    },
    {
     "data": {
      "text/html": [
       "Tracking run with wandb version 0.12.21"
      ],
      "text/plain": [
       "<IPython.core.display.HTML object>"
      ]
     },
     "metadata": {},
     "output_type": "display_data"
    },
    {
     "data": {
      "text/html": [
       "Run data is saved locally in <code>/home/jupyter/digitaltwin-pssm/wandb/run-20220811_181006-3gi5xgoc</code>"
      ],
      "text/plain": [
       "<IPython.core.display.HTML object>"
      ]
     },
     "metadata": {},
     "output_type": "display_data"
    },
    {
     "data": {
      "text/html": [
       "Syncing run <strong><a href=\"https://wandb.ai/fdl-digitaltwin/digitaltwin-pssm/runs/3gi5xgoc\" target=\"_blank\">cool-shape-261</a></strong> to <a href=\"https://wandb.ai/fdl-digitaltwin/digitaltwin-pssm\" target=\"_blank\">Weights & Biases</a> (<a href=\"https://wandb.me/run\" target=\"_blank\">docs</a>)<br/>"
      ],
      "text/plain": [
       "<IPython.core.display.HTML object>"
      ]
     },
     "metadata": {},
     "output_type": "display_data"
    },
    {
     "name": "stdout",
     "output_type": "stream",
     "text": [
      "Train: \n",
      "MRE: 0.013725691562558932\n",
      "MSE: 1.9093759152718097e-05\n",
      "R2: 0.9993441512688112\n",
      "\n",
      "Validation: \n",
      "MRE: 0.018515179298286857\n",
      "MSE: 4.6219414675676215e-05\n",
      "R2: 0.9984156355210899\n",
      "\n",
      "Test: \n",
      "MRE: 0.019781279447623167\n",
      "MSE: 4.488471173279656e-05\n",
      "R2: 0.9984102955084133\n",
      "\n",
      "9.479157305966753 mins\n"
     ]
    }
   ],
   "source": [
    "batch_size = 8\n",
    "ufno_model = '2D'\n",
    "UNet = True\n",
    "dataset = 'even_interval'\n",
    "\n",
    "# Head has been trained for a fixed 200 epoch\n",
    "# The rest depends on the epochs value we specified earlier\n",
    "\n",
    "start = timer()\n",
    "\n",
    "print('betas:'+str(np.array([beta1, beta2, beta3, beta4, beta5, beta6, beta7])))\n",
    "training.main(epochs, batch_size, learning_rate, ufno_model, UNet, beta1, beta2, beta3, beta4, beta5, beta6, beta7, dataset)\n",
    "\n",
    "end = timer()\n",
    "\n",
    "print(str((end - start)/60)+str(' mins'))"
   ]
  },
  {
   "cell_type": "code",
   "execution_count": null,
   "id": "395ee9f4-6411-4979-a060-6aa57f9f6e12",
   "metadata": {},
   "outputs": [],
   "source": [
    "# beta_array = pd.DataFrame(np.zeros((4,7)),columns = ['beta'+str(i) for i in np.arange(7)+1])\n",
    "\n",
    "# beta_array['beta1'][0] = 0.1\n",
    "# beta_array['beta2'][0] = 0.1\n",
    "\n",
    "# beta_array['beta3'][1] = 0.1\n",
    "# beta_array['beta4'][1] = 0.1\n",
    "\n",
    "# beta_array['beta5'][3] = 0.1\n",
    "# beta_array['beta6'][3] = 0.1\n",
    "# beta_array['beta7'][3] = 0.1\n",
    "\n",
    "\n",
    "# beta_array['beta1'][2] = 0.1\n",
    "# beta_array['beta2'][2] = 0.1\n",
    "\n",
    "# beta_array['beta3'][2] = 0.1\n",
    "# beta_array['beta4'][2] = 0.1\n",
    "\n",
    "# beta_array['beta5'][2] = 0.1\n",
    "# beta_array['beta6'][2] = 0.1\n",
    "# beta_array['beta7'][2] = 0.1"
   ]
  },
  {
   "cell_type": "code",
   "execution_count": null,
   "id": "d9acece9-d48c-43db-87bf-530f1e313b37",
   "metadata": {},
   "outputs": [],
   "source": [
    "#beta_array"
   ]
  },
  {
   "cell_type": "code",
   "execution_count": null,
   "id": "185405a4-4175-49da-878b-78400533b481",
   "metadata": {},
   "outputs": [],
   "source": [
    "# batch_size = 4\n",
    "\n",
    "# ufno_model = '3D'\n",
    "# UNet = True\n",
    "# dataset = 'even_interval'\n",
    "\n",
    "# for num_beta_test in np.arange(3):\n",
    "    \n",
    "#     beta1, beta2, beta3, beta4, beta5, beta6, beta7 = beta_array.loc[num_beta_test] \n",
    "#     print('betas:'+str(np.array([beta1, beta2, beta3, beta4, beta5, beta6, beta7])))\n",
    "    \n",
    "#     start = timer()\n",
    "\n",
    "#     training.main(epochs, batch_size, learning_rate, ufno_model, UNet, beta1, beta2, beta3, beta4, beta5, beta6, beta7, dataset)\n",
    "\n",
    "#     end = timer()\n",
    "    \n",
    "#     print(str((end - start)/60)+str(' mins'))"
   ]
  },
  {
   "cell_type": "code",
   "execution_count": null,
   "id": "ba7ded0b-e3bb-4950-8862-05a9dec7727f",
   "metadata": {},
   "outputs": [],
   "source": [
    "# batch_size = 16\n",
    "\n",
    "# ufno_model = '2D'\n",
    "# UNet = False\n",
    "# dataset = 'even_interval'\n",
    "# start = timer()\n",
    "\n",
    "# training.main(epochs, batch_size, learning_rate, ufno_model, UNet, beta1, beta2, beta3, beta4, beta5, beta6, beta7, dataset)\n",
    "\n",
    "# end = timer()\n",
    "# print(str((end - start)/60)+str(' mins'))"
   ]
  },
  {
   "cell_type": "code",
   "execution_count": null,
   "id": "00786b0e-4bd1-465d-bb11-93636944b40c",
   "metadata": {},
   "outputs": [],
   "source": [
    "# batch_size = 4\n",
    "\n",
    "# ufno_model = '3D'\n",
    "# UNet = False\n",
    "# dataset = 'even_interval'\n",
    "# start = timer()\n",
    "\n",
    "# training.main(epochs, batch_size, learning_rate, ufno_model, UNet, beta1, beta2, beta3, beta4, beta5, beta6, beta7, dataset)\n",
    "\n",
    "# end = timer()\n",
    "# print(str((end - start)/60)+str(' mins'))"
   ]
  },
  {
   "cell_type": "code",
   "execution_count": null,
   "id": "a65de12f-15ac-49df-bc3d-624e43553d97",
   "metadata": {},
   "outputs": [],
   "source": [
    "# beta_array = pd.DataFrame(np.zeros((4,7)),columns = ['beta'+str(i) for i in np.arange(7)+1])\n",
    "\n",
    "# beta_array['beta1'][0] = 2\n",
    "# beta_array['beta2'][0] = 2\n",
    "\n",
    "# beta_array['beta1'][1] = 3\n",
    "# beta_array['beta2'][1] = 3\n",
    "\n",
    "# beta_array['beta1'][2] = 3\n",
    "# beta_array['beta2'][2] = 3\n",
    "\n",
    "\n",
    "# beta_array['beta1'][3] = 2\n",
    "# beta_array['beta2'][3] = 2\n",
    "\n",
    "# beta_array['beta1'][3] = 1\n",
    "# beta_array['beta2'][3] = 1\n",
    "\n",
    "# beta_array['beta5'][3] = 1\n",
    "# beta_array['beta6'][3] = 1\n",
    "# beta_array['beta7'][3] = 1\n",
    "\n",
    "# beta_array.to_csv('beta_UFNO3D_test2.csv',index = False)\n"
   ]
  },
  {
   "cell_type": "code",
   "execution_count": null,
   "id": "29ca2451-0eee-4791-ad6a-0d76c6a16e97",
   "metadata": {},
   "outputs": [],
   "source": []
  }
 ],
 "metadata": {
  "environment": {
   "kernel": "python3",
   "name": "pytorch-gpu.1-11.m94",
   "type": "gcloud",
   "uri": "gcr.io/deeplearning-platform-release/pytorch-gpu.1-11:m94"
  },
  "kernelspec": {
   "display_name": "Python 3",
   "language": "python",
   "name": "python3"
  },
  "language_info": {
   "codemirror_mode": {
    "name": "ipython",
    "version": 3
   },
   "file_extension": ".py",
   "mimetype": "text/x-python",
   "name": "python",
   "nbconvert_exporter": "python",
   "pygments_lexer": "ipython3",
   "version": "3.7.12"
  }
 },
 "nbformat": 4,
 "nbformat_minor": 5
}
